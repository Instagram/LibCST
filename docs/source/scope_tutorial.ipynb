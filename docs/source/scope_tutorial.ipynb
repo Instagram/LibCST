{
 "cells": [
  {
   "cell_type": "raw",
   "metadata": {
    "raw_mimetype": "text/restructuredtext"
   },
   "source": [
    "==============\n",
    "Scope Analysis\n",
    "==============\n",
    "Scope analysis keeps track of assignments and accesses which could be useful for code automatic refactoring. If you're not familiar with Scope analysis, see :doc:`Metadata <metadata>` for more detail about Scope metadata. This tutorial demonstrates some use cases of Scope analysis.\n",
    "\n",
    "Automatically Remove Unused Import\n",
    "==================================\n",
    "Unused import is a commmon code suggestion provided by lint tool like `flake8 F401 <https://lintlyci.github.io/Flake8Rules/rules/F401.html>`_ ``imported but unused``. To build an automatic refactoring tool to fix it, we use Scope metadata to identify all :class:`~libcst.Import`, :class:`~libcst.ImportFrom` assignments and their accesses.\n",
    "An import statement may import multiple names, we want to remove those unused names from the import statement. If all the names in the import statement are not used, we remove the entire import.\n",
    "Given the following example source code, the ``import`` and ``from ... import ...`` import multiple names.\n",
    "With a parsed :class:`~libcst.Module`, we construct a :class:`~libcst.metadata.MetadataWrapper` object and it provides a :func:`~libcst.metadata.MetadataWrapper.resolve` function to resolve metadata given a metadata provider.\n",
    ":class:`~libcst.metadata.ScopeProvider` is used here for analysing scope and there are three type of scopes (:class:`~libcst.metadata.GlobalScope`, :class:`~libcst.metadata.FunctionScope` and :class:`~libcst.metadata.ClassScope`) in this example."
   ]
  },
  {
   "cell_type": "code",
   "execution_count": null,
   "metadata": {
    "nbsphinx": "hidden"
   },
   "outputs": [],
   "source": [
    "import sys\n",
    "sys.path.append(\"../../\")"
   ]
  },
  {
   "cell_type": "code",
   "execution_count": null,
   "metadata": {},
   "outputs": [],
   "source": [
    "import libcst as cst\n",
    "\n",
    "source = \"\"\"\n",
    "import a, b, c as d, e as f  # expect to keep: a, c as d\n",
    "from g import h, i, j as k, l as m  # expect to keep: h, j as k\n",
    "from m import n  # expect to be removed entirely\n",
    "\n",
    "a()\n",
    "\n",
    "def fun():\n",
    "    d()\n",
    "\n",
    "class Cls:\n",
    "    att = h.something\n",
    "    \n",
    "    def __init__(self) -> None:\n",
    "        var = k.method()\n",
    "\"\"\"\n",
    "wrapper = cst.metadata.MetadataWrapper(cst.parse_module(source))\n",
    "scopes = set(wrapper.resolve(cst.metadata.ScopeProvider).values())\n",
    "for scope in scopes:\n",
    "    print(scope)"
   ]
  },
  {
   "cell_type": "raw",
   "metadata": {
    "raw_mimetype": "text/restructuredtext"
   },
   "source": [
    "We're interested in those unused names and we traverse all import assignments in each scope to build a lookup table ``import_names_to_remove`` to record the mapping of import node and their unused names. There exist other types of assignment like :class:`~libcst.FunctionDef` or :class:`~libcst.ClassDef` but we don't care them here."
   ]
  },
  {
   "cell_type": "code",
   "execution_count": null,
   "metadata": {},
   "outputs": [],
   "source": [
    "from collections import defaultdict\n",
    "from typing import Dict, Union, Set\n",
    "\n",
    "import_names_to_remove: Dict[Union[cst.Import, cst.ImportFrom], Set[str]] = defaultdict(set)\n",
    "for scope in scopes:\n",
    "    for assignment in scope:\n",
    "        if isinstance(assignment, cst.metadata.Assignment) and isinstance(\n",
    "            assignment.node, (cst.Import, cst.ImportFrom)\n",
    "        ):\n",
    "            if len(assignment.accesses) == 0:\n",
    "                import_names_to_remove[assignment.node].add(assignment.name)\n"
   ]
  },
  {
   "cell_type": "raw",
   "metadata": {
    "raw_mimetype": "text/restructuredtext"
   },
   "source": [
    "To remove the unused name, we implement ``RemoveUnusedImportTransformer`` by subclassing :class:`libcst.CSTTransformer`. We overwrite ``leave_Import`` and ``leave_ImportFrom`` to modify the import statements.\n",
    "When we find the import node in lookup table, we iterate through all ``names`` and keep used names in ``names_to_keep``.\n",
    "If ``names_to_keep`` is empty, all names are unused and we remove the entire import node.\n",
    "Otherwise, we update the import node and just removing partial names."
   ]
  },
  {
   "cell_type": "code",
   "execution_count": null,
   "metadata": {},
   "outputs": [],
   "source": [
    "class RemoveUnusedImportTransformer(cst.CSTTransformer):\n",
    "    def __init__(\n",
    "        self, import_names_to_remove: Dict[Union[cst.Import, cst.ImportFrom], Set[str]]\n",
    "    ) -> None:\n",
    "        self.import_names_to_remove = import_names_to_remove\n",
    "\n",
    "    def leave_import_alike(\n",
    "        self,\n",
    "        original_node: Union[cst.Import, cst.ImportFrom],\n",
    "        updated_node: Union[cst.Import, cst.ImportFrom],\n",
    "    ) -> Union[cst.Import, cst.ImportFrom, cst.RemovalSentinel]:\n",
    "        if original_node not in self.import_names_to_remove:\n",
    "            return updated_node\n",
    "        names_to_keep = []\n",
    "        for name in updated_node.names:\n",
    "            asname = name.asname\n",
    "            if asname is not None:\n",
    "                name_value = asname.name.value\n",
    "            else:\n",
    "                name_value = name.name.value\n",
    "            if name_value not in self.import_names_to_remove[original_node]:\n",
    "                names_to_keep.append(name.with_changes(comma=cst.MaybeSentinel.DEFAULT))\n",
    "        if len(names_to_keep) == 0:\n",
    "            return cst.RemoveFromParent()\n",
    "        else:\n",
    "            return updated_node.with_changes(names=names_to_keep)\n",
    "\n",
    "    def leave_Import(\n",
    "        self, original_node: cst.Import, updated_node: cst.Import\n",
    "    ) -> cst.Import:\n",
    "        return self.leave_import_alike(original_node, updated_node)\n",
    "\n",
    "    def leave_ImportFrom(\n",
    "        self, original_node: cst.ImportFrom, updated_node: cst.ImportFrom\n",
    "    ) -> cst.ImportFrom:\n",
    "        return self.leave_import_alike(original_node, updated_node)\n"
   ]
  },
  {
   "cell_type": "raw",
   "metadata": {
    "raw_mimetype": "text/restructuredtext"
   },
   "source": [
    "After the transform, we use ``.code`` to generate fixed code and all unused names are fixed as expected!"
   ]
  },
  {
   "cell_type": "code",
   "execution_count": null,
   "metadata": {},
   "outputs": [],
   "source": [
    "fixed_module = wrapper.module.visit(RemoveUnusedImportTransformer(import_names_to_remove))\n",
    "print(fixed_module.code)"
   ]
  }
 ],
 "metadata": {
  "celltoolbar": "Raw Cell Format",
  "kernelspec": {
   "display_name": "Python 3",
   "language": "python",
   "name": "python3"
  },
  "language_info": {
   "codemirror_mode": {
    "name": "ipython",
    "version": 3
   },
   "file_extension": ".py",
   "mimetype": "text/x-python",
   "name": "python",
   "nbconvert_exporter": "python",
   "pygments_lexer": "ipython3",
   "version": "3.7.3"
  }
 },
 "nbformat": 4,
 "nbformat_minor": 2
}
